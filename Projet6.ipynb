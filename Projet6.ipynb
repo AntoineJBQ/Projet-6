{
 "cells": [
  {
   "attachments": {},
   "cell_type": "markdown",
   "metadata": {},
   "source": [
    "# Import"
   ]
  },
  {
   "cell_type": "code",
   "execution_count": 1,
   "metadata": {},
   "outputs": [],
   "source": [
    "import pandas as pd\n",
    "import matplotlib.pyplot as plt\n",
    "import seaborn as sns\n",
    "import plotly.express as px\n",
    "from datetime import datetime\n",
    "from statsmodels.tsa.seasonal import seasonal_decompose\n",
    "import numpy as np\n",
    "import statsmodels.api as sm\n",
    "from scipy.stats import pearsonr"
   ]
  },
  {
   "cell_type": "code",
   "execution_count": 2,
   "metadata": {},
   "outputs": [],
   "source": [
    "def etude_fichier(df):\n",
    "    # Etude du fichier \n",
    "    print(\"Nombre de colonnes :\", df.shape)\n",
    "    print()\n",
    "    print(\"Le type est : \\n\", df.dtypes)\n",
    "    print()\n",
    "    print('Nombre de unique')\n",
    "    print(df.nunique())\n",
    "    print()\n",
    "    print('le nombre de null est :\\n',df.isnull().sum())"
   ]
  },
  {
   "cell_type": "code",
   "execution_count": 3,
   "metadata": {},
   "outputs": [],
   "source": [
    "customers = pd.read_csv('customersv2.csv', delimiter=';')\n",
    "transactions = pd.read_csv('Transactionsv2.csv',delimiter=';')\n",
    "products = pd.read_csv('productsv2.csv',delimiter=';')"
   ]
  },
  {
   "attachments": {},
   "cell_type": "markdown",
   "metadata": {},
   "source": [
    "## customers"
   ]
  },
  {
   "cell_type": "code",
   "execution_count": 4,
   "metadata": {},
   "outputs": [
    {
     "data": {
      "text/html": [
       "<div>\n",
       "<style scoped>\n",
       "    .dataframe tbody tr th:only-of-type {\n",
       "        vertical-align: middle;\n",
       "    }\n",
       "\n",
       "    .dataframe tbody tr th {\n",
       "        vertical-align: top;\n",
       "    }\n",
       "\n",
       "    .dataframe thead th {\n",
       "        text-align: right;\n",
       "    }\n",
       "</style>\n",
       "<table border=\"1\" class=\"dataframe\">\n",
       "  <thead>\n",
       "    <tr style=\"text-align: right;\">\n",
       "      <th></th>\n",
       "      <th>52</th>\n",
       "      <th>sex</th>\n",
       "      <th>birth</th>\n",
       "    </tr>\n",
       "  </thead>\n",
       "  <tbody>\n",
       "    <tr>\n",
       "      <th>0</th>\n",
       "      <td>c_4410</td>\n",
       "      <td>f</td>\n",
       "      <td>1967</td>\n",
       "    </tr>\n",
       "    <tr>\n",
       "      <th>1</th>\n",
       "      <td>c_7839</td>\n",
       "      <td>f</td>\n",
       "      <td>1975</td>\n",
       "    </tr>\n",
       "    <tr>\n",
       "      <th>2</th>\n",
       "      <td>c_1699</td>\n",
       "      <td>f</td>\n",
       "      <td>1984</td>\n",
       "    </tr>\n",
       "    <tr>\n",
       "      <th>3</th>\n",
       "      <td>c_5961</td>\n",
       "      <td>f</td>\n",
       "      <td>1962</td>\n",
       "    </tr>\n",
       "    <tr>\n",
       "      <th>4</th>\n",
       "      <td>c_5320</td>\n",
       "      <td>m</td>\n",
       "      <td>1943</td>\n",
       "    </tr>\n",
       "  </tbody>\n",
       "</table>\n",
       "</div>"
      ],
      "text/plain": [
       "       52 sex  birth\n",
       "0  c_4410   f   1967\n",
       "1  c_7839   f   1975\n",
       "2  c_1699   f   1984\n",
       "3  c_5961   f   1962\n",
       "4  c_5320   m   1943"
      ]
     },
     "execution_count": 4,
     "metadata": {},
     "output_type": "execute_result"
    }
   ],
   "source": [
    "customers.head()"
   ]
  },
  {
   "cell_type": "code",
   "execution_count": 5,
   "metadata": {},
   "outputs": [
    {
     "name": "stdout",
     "output_type": "stream",
     "text": [
      "Nombre de colonnes : (8621, 3)\n",
      "\n",
      "Le type est : \n",
      " 52       object\n",
      "sex      object\n",
      "birth     int64\n",
      "dtype: object\n",
      "\n",
      "Nombre de unique\n",
      "52       8621\n",
      "sex         2\n",
      "birth      76\n",
      "dtype: int64\n",
      "\n",
      "le nombre de null est :\n",
      " 52       0\n",
      "sex      0\n",
      "birth    0\n",
      "dtype: int64\n"
     ]
    }
   ],
   "source": [
    "etude_fichier(customers)"
   ]
  },
  {
   "cell_type": "code",
   "execution_count": 6,
   "metadata": {},
   "outputs": [],
   "source": [
    "customers.rename(columns={'52' : 'client_id'}, inplace=True)"
   ]
  },
  {
   "attachments": {},
   "cell_type": "markdown",
   "metadata": {},
   "source": [
    "## transactions"
   ]
  },
  {
   "cell_type": "code",
   "execution_count": 7,
   "metadata": {},
   "outputs": [
    {
     "data": {
      "text/html": [
       "<div>\n",
       "<style scoped>\n",
       "    .dataframe tbody tr th:only-of-type {\n",
       "        vertical-align: middle;\n",
       "    }\n",
       "\n",
       "    .dataframe tbody tr th {\n",
       "        vertical-align: top;\n",
       "    }\n",
       "\n",
       "    .dataframe thead th {\n",
       "        text-align: right;\n",
       "    }\n",
       "</style>\n",
       "<table border=\"1\" class=\"dataframe\">\n",
       "  <thead>\n",
       "    <tr style=\"text-align: right;\">\n",
       "      <th></th>\n",
       "      <th>id_prod</th>\n",
       "      <th>date</th>\n",
       "      <th>session_id</th>\n",
       "      <th>client_id</th>\n",
       "    </tr>\n",
       "  </thead>\n",
       "  <tbody>\n",
       "    <tr>\n",
       "      <th>0</th>\n",
       "      <td>0_1259</td>\n",
       "      <td>2021-03-01 00:01:07.843138</td>\n",
       "      <td>s_1</td>\n",
       "      <td>c_329</td>\n",
       "    </tr>\n",
       "    <tr>\n",
       "      <th>1</th>\n",
       "      <td>0_1390</td>\n",
       "      <td>2021-03-01 00:02:26.047414</td>\n",
       "      <td>s_2</td>\n",
       "      <td>c_664</td>\n",
       "    </tr>\n",
       "    <tr>\n",
       "      <th>2</th>\n",
       "      <td>0_1352</td>\n",
       "      <td>2021-03-01 00:02:38.311413</td>\n",
       "      <td>s_3</td>\n",
       "      <td>c_580</td>\n",
       "    </tr>\n",
       "    <tr>\n",
       "      <th>3</th>\n",
       "      <td>0_1458</td>\n",
       "      <td>2021-03-01 00:04:54.559692</td>\n",
       "      <td>s_4</td>\n",
       "      <td>c_7912</td>\n",
       "    </tr>\n",
       "    <tr>\n",
       "      <th>4</th>\n",
       "      <td>0_1358</td>\n",
       "      <td>2021-03-01 00:05:18.801198</td>\n",
       "      <td>s_5</td>\n",
       "      <td>c_2033</td>\n",
       "    </tr>\n",
       "  </tbody>\n",
       "</table>\n",
       "</div>"
      ],
      "text/plain": [
       "  id_prod                        date session_id client_id\n",
       "0  0_1259  2021-03-01 00:01:07.843138        s_1     c_329\n",
       "1  0_1390  2021-03-01 00:02:26.047414        s_2     c_664\n",
       "2  0_1352  2021-03-01 00:02:38.311413        s_3     c_580\n",
       "3  0_1458  2021-03-01 00:04:54.559692        s_4    c_7912\n",
       "4  0_1358  2021-03-01 00:05:18.801198        s_5    c_2033"
      ]
     },
     "execution_count": 7,
     "metadata": {},
     "output_type": "execute_result"
    }
   ],
   "source": [
    "transactions.head()"
   ]
  },
  {
   "cell_type": "code",
   "execution_count": 8,
   "metadata": {},
   "outputs": [
    {
     "name": "stdout",
     "output_type": "stream",
     "text": [
      "Nombre de colonnes : (687534, 4)\n",
      "\n",
      "Le type est : \n",
      " id_prod       object\n",
      "date          object\n",
      "session_id    object\n",
      "client_id     object\n",
      "dtype: object\n",
      "\n",
      "Nombre de unique\n"
     ]
    },
    {
     "name": "stdout",
     "output_type": "stream",
     "text": [
      "id_prod         3265\n",
      "date          687419\n",
      "session_id    345505\n",
      "client_id       8600\n",
      "dtype: int64\n",
      "\n",
      "le nombre de null est :\n",
      " id_prod       0\n",
      "date          0\n",
      "session_id    0\n",
      "client_id     0\n",
      "dtype: int64\n"
     ]
    }
   ],
   "source": [
    "etude_fichier(transactions)"
   ]
  },
  {
   "attachments": {},
   "cell_type": "markdown",
   "metadata": {},
   "source": [
    "## products"
   ]
  },
  {
   "cell_type": "code",
   "execution_count": 9,
   "metadata": {},
   "outputs": [
    {
     "data": {
      "text/html": [
       "<div>\n",
       "<style scoped>\n",
       "    .dataframe tbody tr th:only-of-type {\n",
       "        vertical-align: middle;\n",
       "    }\n",
       "\n",
       "    .dataframe tbody tr th {\n",
       "        vertical-align: top;\n",
       "    }\n",
       "\n",
       "    .dataframe thead th {\n",
       "        text-align: right;\n",
       "    }\n",
       "</style>\n",
       "<table border=\"1\" class=\"dataframe\">\n",
       "  <thead>\n",
       "    <tr style=\"text-align: right;\">\n",
       "      <th></th>\n",
       "      <th>id_prod</th>\n",
       "      <th>price</th>\n",
       "      <th>categ</th>\n",
       "    </tr>\n",
       "  </thead>\n",
       "  <tbody>\n",
       "    <tr>\n",
       "      <th>0</th>\n",
       "      <td>0_1421</td>\n",
       "      <td>19.99</td>\n",
       "      <td>0</td>\n",
       "    </tr>\n",
       "    <tr>\n",
       "      <th>1</th>\n",
       "      <td>0_1368</td>\n",
       "      <td>5.13</td>\n",
       "      <td>0</td>\n",
       "    </tr>\n",
       "    <tr>\n",
       "      <th>2</th>\n",
       "      <td>0_731</td>\n",
       "      <td>17.99</td>\n",
       "      <td>0</td>\n",
       "    </tr>\n",
       "    <tr>\n",
       "      <th>3</th>\n",
       "      <td>1_587</td>\n",
       "      <td>4.99</td>\n",
       "      <td>1</td>\n",
       "    </tr>\n",
       "    <tr>\n",
       "      <th>4</th>\n",
       "      <td>0_1507</td>\n",
       "      <td>3.99</td>\n",
       "      <td>0</td>\n",
       "    </tr>\n",
       "  </tbody>\n",
       "</table>\n",
       "</div>"
      ],
      "text/plain": [
       "  id_prod  price  categ\n",
       "0  0_1421  19.99      0\n",
       "1  0_1368   5.13      0\n",
       "2   0_731  17.99      0\n",
       "3   1_587   4.99      1\n",
       "4  0_1507   3.99      0"
      ]
     },
     "execution_count": 9,
     "metadata": {},
     "output_type": "execute_result"
    }
   ],
   "source": [
    "products.head()"
   ]
  },
  {
   "cell_type": "code",
   "execution_count": 10,
   "metadata": {},
   "outputs": [
    {
     "name": "stdout",
     "output_type": "stream",
     "text": [
      "Nombre de colonnes : (3286, 3)\n",
      "\n",
      "Le type est : \n",
      " id_prod     object\n",
      "price      float64\n",
      "categ        int64\n",
      "dtype: object\n",
      "\n",
      "Nombre de unique\n",
      "id_prod    3286\n",
      "price      1454\n",
      "categ         3\n",
      "dtype: int64\n",
      "\n",
      "le nombre de null est :\n",
      " id_prod    0\n",
      "price      0\n",
      "categ      0\n",
      "dtype: int64\n"
     ]
    }
   ],
   "source": [
    "etude_fichier(products)"
   ]
  },
  {
   "attachments": {},
   "cell_type": "markdown",
   "metadata": {},
   "source": [
    "# Liaison"
   ]
  },
  {
   "cell_type": "code",
   "execution_count": 11,
   "metadata": {},
   "outputs": [],
   "source": [
    "df = pd.merge(products, transactions, on='id_prod', how='left')"
   ]
  },
  {
   "cell_type": "code",
   "execution_count": 12,
   "metadata": {},
   "outputs": [],
   "source": [
    "dft = pd.merge(df, customers, on='client_id',how='left')"
   ]
  },
  {
   "attachments": {},
   "cell_type": "markdown",
   "metadata": {},
   "source": [
    "# DFT"
   ]
  },
  {
   "cell_type": "markdown",
   "metadata": {},
   "source": [
    "## Manipulation DFT"
   ]
  },
  {
   "cell_type": "code",
   "execution_count": 13,
   "metadata": {},
   "outputs": [
    {
     "data": {
      "text/html": [
       "<div>\n",
       "<style scoped>\n",
       "    .dataframe tbody tr th:only-of-type {\n",
       "        vertical-align: middle;\n",
       "    }\n",
       "\n",
       "    .dataframe tbody tr th {\n",
       "        vertical-align: top;\n",
       "    }\n",
       "\n",
       "    .dataframe thead th {\n",
       "        text-align: right;\n",
       "    }\n",
       "</style>\n",
       "<table border=\"1\" class=\"dataframe\">\n",
       "  <thead>\n",
       "    <tr style=\"text-align: right;\">\n",
       "      <th></th>\n",
       "      <th>id_prod</th>\n",
       "      <th>price</th>\n",
       "      <th>categ</th>\n",
       "      <th>date</th>\n",
       "      <th>session_id</th>\n",
       "      <th>client_id</th>\n",
       "      <th>sex</th>\n",
       "      <th>birth</th>\n",
       "    </tr>\n",
       "  </thead>\n",
       "  <tbody>\n",
       "    <tr>\n",
       "      <th>0</th>\n",
       "      <td>0_1421</td>\n",
       "      <td>19.99</td>\n",
       "      <td>0</td>\n",
       "      <td>2021-03-01 04:13:00.107748</td>\n",
       "      <td>s_101</td>\n",
       "      <td>c_8533</td>\n",
       "      <td>m</td>\n",
       "      <td>1972.0</td>\n",
       "    </tr>\n",
       "    <tr>\n",
       "      <th>1</th>\n",
       "      <td>0_1421</td>\n",
       "      <td>19.99</td>\n",
       "      <td>0</td>\n",
       "      <td>2021-03-01 13:48:20.214075</td>\n",
       "      <td>s_285</td>\n",
       "      <td>c_5299</td>\n",
       "      <td>f</td>\n",
       "      <td>1967.0</td>\n",
       "    </tr>\n",
       "    <tr>\n",
       "      <th>2</th>\n",
       "      <td>0_1421</td>\n",
       "      <td>19.99</td>\n",
       "      <td>0</td>\n",
       "      <td>2021-03-01 15:07:42.730079</td>\n",
       "      <td>s_317</td>\n",
       "      <td>c_8024</td>\n",
       "      <td>f</td>\n",
       "      <td>1936.0</td>\n",
       "    </tr>\n",
       "    <tr>\n",
       "      <th>3</th>\n",
       "      <td>0_1421</td>\n",
       "      <td>19.99</td>\n",
       "      <td>0</td>\n",
       "      <td>2021-03-02 03:39:21.811833</td>\n",
       "      <td>s_563</td>\n",
       "      <td>c_7702</td>\n",
       "      <td>f</td>\n",
       "      <td>1989.0</td>\n",
       "    </tr>\n",
       "    <tr>\n",
       "      <th>4</th>\n",
       "      <td>0_1421</td>\n",
       "      <td>19.99</td>\n",
       "      <td>0</td>\n",
       "      <td>2021-03-02 19:09:41.789425</td>\n",
       "      <td>s_850</td>\n",
       "      <td>c_4057</td>\n",
       "      <td>m</td>\n",
       "      <td>1981.0</td>\n",
       "    </tr>\n",
       "  </tbody>\n",
       "</table>\n",
       "</div>"
      ],
      "text/plain": [
       "  id_prod  price  categ                        date session_id client_id sex  \\\n",
       "0  0_1421  19.99      0  2021-03-01 04:13:00.107748      s_101    c_8533   m   \n",
       "1  0_1421  19.99      0  2021-03-01 13:48:20.214075      s_285    c_5299   f   \n",
       "2  0_1421  19.99      0  2021-03-01 15:07:42.730079      s_317    c_8024   f   \n",
       "3  0_1421  19.99      0  2021-03-02 03:39:21.811833      s_563    c_7702   f   \n",
       "4  0_1421  19.99      0  2021-03-02 19:09:41.789425      s_850    c_4057   m   \n",
       "\n",
       "    birth  \n",
       "0  1972.0  \n",
       "1  1967.0  \n",
       "2  1936.0  \n",
       "3  1989.0  \n",
       "4  1981.0  "
      ]
     },
     "execution_count": 13,
     "metadata": {},
     "output_type": "execute_result"
    }
   ],
   "source": [
    "dft.head()"
   ]
  },
  {
   "cell_type": "code",
   "execution_count": 14,
   "metadata": {},
   "outputs": [
    {
     "name": "stdout",
     "output_type": "stream",
     "text": [
      "Nombre de colonnes : (687555, 8)\n",
      "\n",
      "Le type est : \n",
      " id_prod        object\n",
      "price         float64\n",
      "categ           int64\n",
      "date           object\n",
      "session_id     object\n",
      "client_id      object\n",
      "sex            object\n",
      "birth         float64\n",
      "dtype: object\n",
      "\n",
      "Nombre de unique\n",
      "id_prod         3286\n",
      "price           1454\n",
      "categ              3\n",
      "date          687419\n",
      "session_id    345505\n",
      "client_id       8600\n",
      "sex                2\n",
      "birth             76\n",
      "dtype: int64\n",
      "\n",
      "le nombre de null est :\n",
      " id_prod        0\n",
      "price          0\n",
      "categ          0\n",
      "date          21\n",
      "session_id    21\n",
      "client_id     21\n",
      "sex           21\n",
      "birth         21\n",
      "dtype: int64\n"
     ]
    }
   ],
   "source": [
    "etude_fichier(dft)"
   ]
  },
  {
   "cell_type": "code",
   "execution_count": 15,
   "metadata": {},
   "outputs": [],
   "source": [
    "dft = dft.dropna()"
   ]
  },
  {
   "cell_type": "code",
   "execution_count": 16,
   "metadata": {},
   "outputs": [
    {
     "name": "stdout",
     "output_type": "stream",
     "text": [
      "0         51\n",
      "1         56\n",
      "2         87\n",
      "3         34\n",
      "4         42\n",
      "          ..\n",
      "687550    35\n",
      "687551    36\n",
      "687552    34\n",
      "687553    34\n",
      "687554    34\n",
      "Name: age, Length: 687534, dtype: Int64\n"
     ]
    }
   ],
   "source": [
    "# Conversion de la colonne \"birth\" en format année\n",
    "dft['birth'] = pd.to_numeric(dft['birth'], errors='coerce').astype(pd.Int64Dtype()) # Convertir en type entier\n",
    "# Convertir la colonne \"date\" en format de date\n",
    "dft['date'] = pd.to_datetime(dft['date'], format='%Y-%m-%d %H:%M:%S.%f', errors='coerce')\n",
    "# Calcul de l'âge\n",
    "current_year = datetime.now().year\n",
    "dft['age'] = current_year - dft['birth']\n",
    "\n",
    "# Affichage des résultats\n",
    "print(dft['age'])\n"
   ]
  },
  {
   "cell_type": "code",
   "execution_count": 17,
   "metadata": {},
   "outputs": [
    {
     "name": "stdout",
     "output_type": "stream",
     "text": [
      "0         51-60\n",
      "1         51-60\n",
      "2           70+\n",
      "3         31-40\n",
      "4         41-50\n",
      "          ...  \n",
      "687550    31-40\n",
      "687551    31-40\n",
      "687552    31-40\n",
      "687553    31-40\n",
      "687554    31-40\n",
      "Name: tranche, Length: 687534, dtype: category\n",
      "Categories (7, object): ['0-18' < '19-30' < '31-40' < '41-50' < '51-60' < '61-70' < '70+']\n"
     ]
    }
   ],
   "source": [
    "# Définition des intervalles d'âge\n",
    "intervalles = [0, 18, 30, 40, 50, 60, 70, float('inf')]\n",
    "tranche = ['0-18', '19-30', '31-40', '41-50', '51-60', '61-70', '70+']\n",
    "\n",
    "# Création de la colonne \"age_group\" avec les tranches d'âge\n",
    "dft['tranche'] = pd.cut(dft['age'], bins=intervalles, labels=tranche, right=False)\n",
    "\n",
    "# Affichage des résultats\n",
    "print(dft['tranche'])"
   ]
  },
  {
   "cell_type": "code",
   "execution_count": 18,
   "metadata": {},
   "outputs": [
    {
     "data": {
      "text/html": [
       "<div>\n",
       "<style scoped>\n",
       "    .dataframe tbody tr th:only-of-type {\n",
       "        vertical-align: middle;\n",
       "    }\n",
       "\n",
       "    .dataframe tbody tr th {\n",
       "        vertical-align: top;\n",
       "    }\n",
       "\n",
       "    .dataframe thead th {\n",
       "        text-align: right;\n",
       "    }\n",
       "</style>\n",
       "<table border=\"1\" class=\"dataframe\">\n",
       "  <thead>\n",
       "    <tr style=\"text-align: right;\">\n",
       "      <th></th>\n",
       "      <th>id_prod</th>\n",
       "      <th>price</th>\n",
       "      <th>categ</th>\n",
       "      <th>date</th>\n",
       "      <th>session_id</th>\n",
       "      <th>client_id</th>\n",
       "      <th>sex</th>\n",
       "      <th>birth</th>\n",
       "      <th>age</th>\n",
       "      <th>tranche</th>\n",
       "    </tr>\n",
       "  </thead>\n",
       "  <tbody>\n",
       "    <tr>\n",
       "      <th>0</th>\n",
       "      <td>0_1421</td>\n",
       "      <td>19.99</td>\n",
       "      <td>0</td>\n",
       "      <td>2021-03-01 04:13:00.107748</td>\n",
       "      <td>s_101</td>\n",
       "      <td>c_8533</td>\n",
       "      <td>m</td>\n",
       "      <td>1972</td>\n",
       "      <td>51</td>\n",
       "      <td>51-60</td>\n",
       "    </tr>\n",
       "    <tr>\n",
       "      <th>1</th>\n",
       "      <td>0_1421</td>\n",
       "      <td>19.99</td>\n",
       "      <td>0</td>\n",
       "      <td>2021-03-01 13:48:20.214075</td>\n",
       "      <td>s_285</td>\n",
       "      <td>c_5299</td>\n",
       "      <td>f</td>\n",
       "      <td>1967</td>\n",
       "      <td>56</td>\n",
       "      <td>51-60</td>\n",
       "    </tr>\n",
       "    <tr>\n",
       "      <th>2</th>\n",
       "      <td>0_1421</td>\n",
       "      <td>19.99</td>\n",
       "      <td>0</td>\n",
       "      <td>2021-03-01 15:07:42.730079</td>\n",
       "      <td>s_317</td>\n",
       "      <td>c_8024</td>\n",
       "      <td>f</td>\n",
       "      <td>1936</td>\n",
       "      <td>87</td>\n",
       "      <td>70+</td>\n",
       "    </tr>\n",
       "    <tr>\n",
       "      <th>3</th>\n",
       "      <td>0_1421</td>\n",
       "      <td>19.99</td>\n",
       "      <td>0</td>\n",
       "      <td>2021-03-02 03:39:21.811833</td>\n",
       "      <td>s_563</td>\n",
       "      <td>c_7702</td>\n",
       "      <td>f</td>\n",
       "      <td>1989</td>\n",
       "      <td>34</td>\n",
       "      <td>31-40</td>\n",
       "    </tr>\n",
       "    <tr>\n",
       "      <th>4</th>\n",
       "      <td>0_1421</td>\n",
       "      <td>19.99</td>\n",
       "      <td>0</td>\n",
       "      <td>2021-03-02 19:09:41.789425</td>\n",
       "      <td>s_850</td>\n",
       "      <td>c_4057</td>\n",
       "      <td>m</td>\n",
       "      <td>1981</td>\n",
       "      <td>42</td>\n",
       "      <td>41-50</td>\n",
       "    </tr>\n",
       "  </tbody>\n",
       "</table>\n",
       "</div>"
      ],
      "text/plain": [
       "  id_prod  price  categ                       date session_id client_id sex  \\\n",
       "0  0_1421  19.99      0 2021-03-01 04:13:00.107748      s_101    c_8533   m   \n",
       "1  0_1421  19.99      0 2021-03-01 13:48:20.214075      s_285    c_5299   f   \n",
       "2  0_1421  19.99      0 2021-03-01 15:07:42.730079      s_317    c_8024   f   \n",
       "3  0_1421  19.99      0 2021-03-02 03:39:21.811833      s_563    c_7702   f   \n",
       "4  0_1421  19.99      0 2021-03-02 19:09:41.789425      s_850    c_4057   m   \n",
       "\n",
       "   birth  age tranche  \n",
       "0   1972   51   51-60  \n",
       "1   1967   56   51-60  \n",
       "2   1936   87     70+  \n",
       "3   1989   34   31-40  \n",
       "4   1981   42   41-50  "
      ]
     },
     "execution_count": 18,
     "metadata": {},
     "output_type": "execute_result"
    }
   ],
   "source": [
    "dft.head()"
   ]
  },
  {
   "cell_type": "code",
   "execution_count": 19,
   "metadata": {},
   "outputs": [],
   "source": [
    "dft['age'] = pd.to_numeric(dft['age'], errors='coerce')\n",
    "dft['categ'] = dft['categ'].astype(str)"
   ]
  },
  {
   "cell_type": "code",
   "execution_count": 20,
   "metadata": {},
   "outputs": [],
   "source": [
    "def assign_profile(row):\n",
    "    age = row['age']\n",
    "    sex = row['sex']\n",
    "    tranche = row['tranche']\n",
    "    \n",
    "    if age < 30:\n",
    "        if sex == 'm':\n",
    "            if tranche == '0-18':\n",
    "                return 'Jeune Homme Adolescent'\n",
    "            else:\n",
    "                return 'Jeune Homme Jeune Adulte'\n",
    "        else:\n",
    "            if tranche == '0-18':\n",
    "                return 'Jeune Femme Adolescent'\n",
    "            else:\n",
    "                return 'Jeune Femme Jeune Adulte'\n",
    "    elif age < 40:\n",
    "        if sex == 'm':\n",
    "            if tranche == '19-30':\n",
    "                return 'Homme Jeune Adulte'\n",
    "            elif tranche == '31-40':\n",
    "                return 'Homme Adulte'\n",
    "            else:\n",
    "                return 'Homme ' + tranche\n",
    "        else:\n",
    "            if tranche == '19-30':\n",
    "                return 'Femme Jeune Adulte'\n",
    "            elif tranche == '31-40':\n",
    "                return 'Femme Adulte'\n",
    "            else:\n",
    "                return 'Femme ' + tranche\n",
    "    else:\n",
    "        if sex == 'm':\n",
    "            if tranche == '41-50':\n",
    "                return 'Homme d\\'Âge Moyen'\n",
    "            elif tranche == '51-60':\n",
    "                return 'Homme Mûr'\n",
    "            elif tranche == '61-70':\n",
    "                return 'Homme Senior'\n",
    "            else:\n",
    "                return 'Homme ' + tranche\n",
    "        else:\n",
    "            if tranche == '41-50':\n",
    "                return 'Femme d\\'Âge Moyen'\n",
    "            elif tranche == '51-60':\n",
    "                return 'Femme Mûre'\n",
    "            elif tranche == '61-70':\n",
    "                return 'Femme Senior'\n",
    "            else:\n",
    "                return 'Femme ' + tranche\n",
    "\n",
    "# Appliquer la fonction d'assignation de profil à chaque ligne du DataFrame\n",
    "dft['profil'] = dft.apply(assign_profile, axis=1)"
   ]
  },
  {
   "cell_type": "code",
   "execution_count": 21,
   "metadata": {},
   "outputs": [
    {
     "data": {
      "text/html": [
       "<div>\n",
       "<style scoped>\n",
       "    .dataframe tbody tr th:only-of-type {\n",
       "        vertical-align: middle;\n",
       "    }\n",
       "\n",
       "    .dataframe tbody tr th {\n",
       "        vertical-align: top;\n",
       "    }\n",
       "\n",
       "    .dataframe thead th {\n",
       "        text-align: right;\n",
       "    }\n",
       "</style>\n",
       "<table border=\"1\" class=\"dataframe\">\n",
       "  <thead>\n",
       "    <tr style=\"text-align: right;\">\n",
       "      <th></th>\n",
       "      <th>id_prod</th>\n",
       "      <th>price</th>\n",
       "      <th>categ</th>\n",
       "      <th>date</th>\n",
       "      <th>session_id</th>\n",
       "      <th>client_id</th>\n",
       "      <th>sex</th>\n",
       "      <th>birth</th>\n",
       "      <th>age</th>\n",
       "      <th>tranche</th>\n",
       "      <th>profil</th>\n",
       "    </tr>\n",
       "  </thead>\n",
       "  <tbody>\n",
       "    <tr>\n",
       "      <th>0</th>\n",
       "      <td>0_1421</td>\n",
       "      <td>19.99</td>\n",
       "      <td>0</td>\n",
       "      <td>2021-03-01 04:13:00.107748</td>\n",
       "      <td>s_101</td>\n",
       "      <td>c_8533</td>\n",
       "      <td>m</td>\n",
       "      <td>1972</td>\n",
       "      <td>51</td>\n",
       "      <td>51-60</td>\n",
       "      <td>Homme Mûr</td>\n",
       "    </tr>\n",
       "    <tr>\n",
       "      <th>1</th>\n",
       "      <td>0_1421</td>\n",
       "      <td>19.99</td>\n",
       "      <td>0</td>\n",
       "      <td>2021-03-01 13:48:20.214075</td>\n",
       "      <td>s_285</td>\n",
       "      <td>c_5299</td>\n",
       "      <td>f</td>\n",
       "      <td>1967</td>\n",
       "      <td>56</td>\n",
       "      <td>51-60</td>\n",
       "      <td>Femme Mûre</td>\n",
       "    </tr>\n",
       "    <tr>\n",
       "      <th>2</th>\n",
       "      <td>0_1421</td>\n",
       "      <td>19.99</td>\n",
       "      <td>0</td>\n",
       "      <td>2021-03-01 15:07:42.730079</td>\n",
       "      <td>s_317</td>\n",
       "      <td>c_8024</td>\n",
       "      <td>f</td>\n",
       "      <td>1936</td>\n",
       "      <td>87</td>\n",
       "      <td>70+</td>\n",
       "      <td>Femme 70+</td>\n",
       "    </tr>\n",
       "    <tr>\n",
       "      <th>3</th>\n",
       "      <td>0_1421</td>\n",
       "      <td>19.99</td>\n",
       "      <td>0</td>\n",
       "      <td>2021-03-02 03:39:21.811833</td>\n",
       "      <td>s_563</td>\n",
       "      <td>c_7702</td>\n",
       "      <td>f</td>\n",
       "      <td>1989</td>\n",
       "      <td>34</td>\n",
       "      <td>31-40</td>\n",
       "      <td>Femme Adulte</td>\n",
       "    </tr>\n",
       "    <tr>\n",
       "      <th>4</th>\n",
       "      <td>0_1421</td>\n",
       "      <td>19.99</td>\n",
       "      <td>0</td>\n",
       "      <td>2021-03-02 19:09:41.789425</td>\n",
       "      <td>s_850</td>\n",
       "      <td>c_4057</td>\n",
       "      <td>m</td>\n",
       "      <td>1981</td>\n",
       "      <td>42</td>\n",
       "      <td>41-50</td>\n",
       "      <td>Homme d'Âge Moyen</td>\n",
       "    </tr>\n",
       "  </tbody>\n",
       "</table>\n",
       "</div>"
      ],
      "text/plain": [
       "  id_prod  price categ                       date session_id client_id sex  \\\n",
       "0  0_1421  19.99     0 2021-03-01 04:13:00.107748      s_101    c_8533   m   \n",
       "1  0_1421  19.99     0 2021-03-01 13:48:20.214075      s_285    c_5299   f   \n",
       "2  0_1421  19.99     0 2021-03-01 15:07:42.730079      s_317    c_8024   f   \n",
       "3  0_1421  19.99     0 2021-03-02 03:39:21.811833      s_563    c_7702   f   \n",
       "4  0_1421  19.99     0 2021-03-02 19:09:41.789425      s_850    c_4057   m   \n",
       "\n",
       "   birth  age tranche             profil  \n",
       "0   1972   51   51-60          Homme Mûr  \n",
       "1   1967   56   51-60         Femme Mûre  \n",
       "2   1936   87     70+          Femme 70+  \n",
       "3   1989   34   31-40       Femme Adulte  \n",
       "4   1981   42   41-50  Homme d'Âge Moyen  "
      ]
     },
     "execution_count": 21,
     "metadata": {},
     "output_type": "execute_result"
    }
   ],
   "source": [
    "dft.head()"
   ]
  },
  {
   "cell_type": "code",
   "execution_count": 22,
   "metadata": {},
   "outputs": [
    {
     "name": "stdout",
     "output_type": "stream",
     "text": [
      "<class 'pandas.core.frame.DataFrame'>\n",
      "Int64Index: 687534 entries, 0 to 687554\n",
      "Data columns (total 11 columns):\n",
      " #   Column      Non-Null Count   Dtype         \n",
      "---  ------      --------------   -----         \n",
      " 0   id_prod     687534 non-null  object        \n",
      " 1   price       687534 non-null  float64       \n",
      " 2   categ       687534 non-null  object        \n",
      " 3   date        687298 non-null  datetime64[ns]\n",
      " 4   session_id  687534 non-null  object        \n",
      " 5   client_id   687534 non-null  object        \n",
      " 6   sex         687534 non-null  object        \n",
      " 7   birth       687534 non-null  Int64         \n",
      " 8   age         687534 non-null  Int64         \n",
      " 9   tranche     687534 non-null  category      \n",
      " 10  profil      687534 non-null  object        \n",
      "dtypes: Int64(2), category(1), datetime64[ns](1), float64(1), object(6)\n",
      "memory usage: 59.7+ MB\n"
     ]
    }
   ],
   "source": [
    "dft.info()"
   ]
  },
  {
   "cell_type": "markdown",
   "metadata": {},
   "source": [
    "# Graphique du ca"
   ]
  },
  {
   "cell_type": "markdown",
   "metadata": {},
   "source": [
    "##  évolution dans le temps et mettre en place une décomposition en moyenne mobile pour évaluer la tendance golbale"
   ]
  },
  {
   "cell_type": "code",
   "execution_count": 23,
   "metadata": {},
   "outputs": [
    {
     "data": {
      "text/plain": [
       "date\n",
       "2021-03-31    482440.61\n",
       "2021-04-30    476109.30\n",
       "2021-05-31    492943.47\n",
       "2021-06-30    484088.56\n",
       "2021-07-31    482835.40\n",
       "Name: price, dtype: float64"
      ]
     },
     "execution_count": 23,
     "metadata": {},
     "output_type": "execute_result"
    }
   ],
   "source": [
    "# Regrouper les données par mois et calculer le chiffre d'affaires total par mois\n",
    "vente_mois = dft.groupby(pd.Grouper(key='date', freq='M')).sum()['price']\n",
    "vente_mois.head()"
   ]
  },
  {
   "cell_type": "code",
   "execution_count": 24,
   "metadata": {},
   "outputs": [
    {
     "data": {
      "image/png": "[encoded data removed]",
      "text/plain": [
       "<Figure size 1000x600 with 1 Axes>"
      ]
     },
     "metadata": {},
     "output_type": "display_data"
    }
   ],
   "source": [
    "# Tracer l'évolution du chiffre d'affaires dans le temps\n",
    "plt.figure(figsize=(10, 6))\n",
    "plt.plot(vente_mois.index, vente_mois.values)\n",
    "plt.xlabel('Mois')\n",
    "plt.ylabel('Chiffre d\\'affaires')\n",
    "plt.title('Évolution du chiffre d\\'affaires dans le temps')\n",
    "plt.show()"
   ]
  },
  {
   "attachments": {},
   "cell_type": "markdown",
   "metadata": {},
   "source": [
    "La moyenne mobile, ou moyenne glissante, est un type de moyenne statistique utilisée pour analyser des séries ordonnées de données, le plus souvent des séries temporelles, en supprimant les fluctuations transitoires de façon à en souligner les tendances à plus long terme. Cette moyenne est dite mobile parce qu'elle est recalculée de façon continue,"
   ]
  },
  {
   "cell_type": "code",
   "execution_count": 25,
   "metadata": {},
   "outputs": [
    {
     "data": {
      "text/plain": [
       "<Figure size 1000x800 with 0 Axes>"
      ]
     },
     "metadata": {},
     "output_type": "display_data"
    },
    {
     "data": {
      "image/png": "[encoded data removed]",
      "text/plain": [
       "<Figure size 640x480 with 4 Axes>"
      ]
     },
     "metadata": {},
     "output_type": "display_data"
    }
   ],
   "source": [
    "# Décomposition en moyenne mobile simple sur 12 mois\n",
    "rolling_mean = vente_mois.rolling(window=12).mean()\n",
    "\n",
    "# Tracer la décomposition en moyenne mobile\n",
    "decomposition = seasonal_decompose(vente_mois, model='additive')\n",
    "plt.figure(figsize=(10, 8))\n",
    "decomposition.plot()\n",
    "plt.show()"
   ]
  },
  {
   "attachments": {},
   "cell_type": "markdown",
   "metadata": {},
   "source": [
    "##  un zoom sur les réfrences pour voir top et flop"
   ]
  },
  {
   "cell_type": "code",
   "execution_count": 26,
   "metadata": {},
   "outputs": [
    {
     "name": "stdout",
     "output_type": "stream",
     "text": [
      "Références les plus vendues :\n",
      " id_prod\n",
      "2_159    94893.50\n",
      "2_135    69334.95\n",
      "2_112    65407.76\n",
      "2_102    60736.78\n",
      "2_209    56971.86\n",
      "1_395    56617.47\n",
      "1_369    56136.60\n",
      "2_110    53846.25\n",
      "1_383    53834.43\n",
      "1_414    53522.18\n",
      "Name: price, dtype: float64\n",
      "\n",
      "Références les moins vendues :\n",
      " id_prod\n",
      "0_1539    0.99\n",
      "0_1284    1.38\n",
      "0_1653    1.98\n",
      "0_1601    1.99\n",
      "0_541     1.99\n",
      "0_807     1.99\n",
      "0_1728    2.27\n",
      "0_1498    2.48\n",
      "0_898     2.54\n",
      "0_1840    2.56\n",
      "Name: price, dtype: float64\n"
     ]
    }
   ],
   "source": [
    "# Références les plus vendues (top)\n",
    "top_references = dft.groupby('id_prod').sum()['price'].nlargest(10)\n",
    "print('Références les plus vendues :\\n', top_references)\n",
    "print()\n",
    "# Références les moins vendues (flop)\n",
    "flop_references = dft.groupby('id_prod').sum()['price'].nsmallest(10)\n",
    "print('Références les moins vendues :\\n', flop_references)\n",
    "\n"
   ]
  },
  {
   "cell_type": "markdown",
   "metadata": {},
   "source": [
    "## répartition du CA par catégorie"
   ]
  },
  {
   "cell_type": "code",
   "execution_count": 27,
   "metadata": {},
   "outputs": [
    {
     "data": {
      "image/png": "[encoded data removed]",
      "text/plain": [
       "<Figure size 800x600 with 1 Axes>"
      ]
     },
     "metadata": {},
     "output_type": "display_data"
    }
   ],
   "source": [
    "# Répartition par catégorie\n",
    "category_sales = dft.groupby('categ').sum()['price']\n",
    "plt.figure(figsize=(8, 6))\n",
    "plt.bar(category_sales.index, category_sales.values)\n",
    "plt.xlabel('Catégorie')\n",
    "plt.ylabel('Chiffre d\\'affaires')\n",
    "plt.title('Répartition du chiffre d\\'affaires par catégorie')\n",
    "plt.show()"
   ]
  },
  {
   "attachments": {},
   "cell_type": "markdown",
   "metadata": {},
   "source": [
    "## info sur les profils de nos clients, répartition du ca entre eux, courbe de lorenz"
   ]
  },
  {
   "cell_type": "code",
   "execution_count": 28,
   "metadata": {},
   "outputs": [
    {
     "data": {
      "image/png": "[encoded data removed]",
      "text/plain": [
       "<Figure size 1200x600 with 1 Axes>"
      ]
     },
     "metadata": {},
     "output_type": "display_data"
    }
   ],
   "source": [
    "# Calcul du chiffre d'affaires par profil\n",
    "profil_sales = dft.groupby('profil')['price'].sum()\n",
    "\n",
    "# Trier le DataFrame dans l'ordre décroissant\n",
    "profil_sales_sorted = profil_sales.sort_values(ascending=False)\n",
    "\n",
    "# Affichage du diagramme à barres trié\n",
    "plt.figure(figsize=(12, 6))\n",
    "plt.bar(profil_sales_sorted.index, profil_sales_sorted.values)\n",
    "plt.xlabel('Profil client')\n",
    "plt.ylabel('Chiffre d\\'affaires')\n",
    "plt.title('Répartition du chiffre d\\'affaires par profil client (trié décroissant)')\n",
    "plt.xticks(rotation=45)\n",
    "plt.show()"
   ]
  },
  {
   "cell_type": "code",
   "execution_count": 29,
   "metadata": {},
   "outputs": [
    {
     "data": {
      "image/png": "[encoded data removed]",
      "text/plain": [
       "<Figure size 600x600 with 1 Axes>"
      ]
     },
     "metadata": {},
     "output_type": "display_data"
    }
   ],
   "source": [
    "# Calcul du chiffre d'affaires cumulé par profil\n",
    "cumulative_sales = profil_sales.sort_values().cumsum() / profil_sales.sum()\n",
    "\n",
    "# Calcul du pourcentage du chiffre d'affaires cumulé par profil\n",
    "cumulative_sales_percentage = cumulative_sales * 100\n",
    "\n",
    "# Création de la série Pandas avec les pourcentages du chiffre d'affaires cumulé\n",
    "lorenz_curve = pd.Series(cumulative_sales_percentage.values, index=range(1, len(cumulative_sales_percentage) + 1))\n",
    "\n",
    "#  Affichage de la courbe de Lorenz\n",
    "plt.figure(figsize=(6, 6))\n",
    "plt.plot(lorenz_curve.index, lorenz_curve.values, label='Courbe de Lorenz')\n",
    "plt.plot([0, 100], [0, 100], color='red', linestyle='--', label='Égalité parfaite')\n",
    "plt.xlabel('Pourcentage de clients')\n",
    "plt.ylabel('Pourcentage de chiffre d\\'affaires')\n",
    "plt.title('Courbe de Lorenz du chiffre d\\'affaires par profil client')\n",
    "plt.legend()\n",
    "plt.show()"
   ]
  },
  {
   "cell_type": "markdown",
   "metadata": {},
   "source": [
    "# Corrélations"
   ]
  },
  {
   "cell_type": "markdown",
   "metadata": {},
   "source": [
    "## le lien entre le genre d'un client et les catégories de livres achetées"
   ]
  },
  {
   "cell_type": "code",
   "execution_count": 30,
   "metadata": {},
   "outputs": [
    {
     "name": "stdout",
     "output_type": "stream",
     "text": [
      "sex  categ\n",
      "f    0        206103\n",
      "     1        119307\n",
      "     2         17283\n",
      "m    0        209356\n",
      "     1        116285\n",
      "     2         19200\n",
      "Name: id_prod, dtype: int64\n"
     ]
    }
   ],
   "source": [
    "# Grouper les données par 'sex' et 'categ', puis compter le nombre de produits dans chaque groupe\n",
    "category_counts = dft.groupby(['sex', 'categ']).count()['id_prod']\n",
    "\n",
    "print(category_counts)"
   ]
  },
  {
   "cell_type": "code",
   "execution_count": 31,
   "metadata": {},
   "outputs": [
    {
     "name": "stdout",
     "output_type": "stream",
     "text": [
      "Valeur de Chi2 : 158.25417617304882\n",
      "P-valeur : 4.320582228399707e-35\n"
     ]
    }
   ],
   "source": [
    "import pandas as pd\n",
    "from scipy.stats import chi2_contingency\n",
    "\n",
    "# Création d'un tableau de contingence\n",
    "contingency_table = pd.crosstab(dft['sex'], dft['categ'])\n",
    "\n",
    "# Application du test du Chi-carré\n",
    "chi2, p, dof, expected = chi2_contingency(contingency_table)\n",
    "\n",
    "print(f\"Valeur de Chi2 : {chi2}\")\n",
    "print(f\"P-valeur : {p}\")\n"
   ]
  },
  {
   "cell_type": "markdown",
   "metadata": {},
   "source": [
    "Ces résultats indiquent que le test du Chi-carré a trouvé une association statistiquement significative entre le sexe du client et la catégorie de produits qu'ils achètent.\n",
    "\n",
    "La valeur de Chi2 est assez élevée, ce qui indique une forte déviation par rapport à ce que nous attendrions si les deux variables étaient indépendantes. De plus, la p-valeur est extrêmement petite (bien en dessous du seuil standard de 0,05), ce qui signifie que le résultat est très probablement statistiquement significatif et non dû au hasard.\n",
    "\n",
    "En conclusion, sur la base de ces résultats, il semble qu'il existe une corrélation entre le sexe d'un client et la catégorie de produits qu'il achète. Cependant, gardez à l'esprit que cela ne signifie pas nécessairement qu'il y a une relation de cause à effet. D'autres facteurs pourraient être à l'œuvre. Pour comprendre le contexte de cette corrélation, vous devriez probablement examiner d'autres aspects de vos données ou réaliser une analyse plus détaillée."
   ]
  },
  {
   "cell_type": "markdown",
   "metadata": {},
   "source": [
    "## le lien entre l'âge des clients et le montant total des achats"
   ]
  },
  {
   "cell_type": "code",
   "execution_count": 33,
   "metadata": {},
   "outputs": [
    {
     "name": "stdout",
     "output_type": "stream",
     "text": [
      "Correlation:  -0.20749608778813317\n"
     ]
    }
   ],
   "source": [
    "\n",
    "# Créer le DataFrame 'total_purchase' à partir des colonnes 'age' et 'price'\n",
    "total_purchase = dft[['age', 'price']].copy()\n",
    "\n",
    "# Assurer que les données sont numériques et non NaN\n",
    "total_purchase['age'] = pd.to_numeric(total_purchase['age'], errors='coerce')\n",
    "total_purchase['price'] = pd.to_numeric(total_purchase['price'], errors='coerce')\n",
    "\n",
    "# Supprimer les valeurs NaN qui ont pu être introduites par la conversion\n",
    "total_purchase = total_purchase.dropna()\n",
    "\n",
    "# Calculer la corrélation et la p-valeur\n",
    "corr, _ = pearsonr(total_purchase['age'], total_purchase['price'])\n",
    "print('Correlation: ', corr)\n"
   ]
  },
  {
   "cell_type": "markdown",
   "metadata": {},
   "source": [
    "\n",
    "La valeur de corrélation que vous avez obtenue est -0.03976. Le coefficient de corrélation varie de -1 à 1. Si la valeur est proche de 1, cela signifie qu'il y a une forte corrélation positive entre les deux variables. Quand c'est proche de -1, les variables ont une forte corrélation négative.\n",
    "\n",
    "Dans ce cas, la corrélation entre 'age' et 'price' est très proche de zéro, indiquant qu'il n'y a pas de corrélation significative entre ces deux variables dans votre dataset. En d'autres termes, l'âge des clients n'a pas d'influence significative sur le montant total des achats.\n",
    "\n",
    "C'est important à noter, cependant, que la corrélation ne signifie pas la causalité. Même si deux variables sont fortement corrélées, cela ne signifie pas qu'une cause l'autre. Cela pourrait être dû à une autre variable non incluse dans l'analyse ou à un certain nombre d'autres facteurs."
   ]
  },
  {
   "cell_type": "markdown",
   "metadata": {},
   "source": [
    "## le lien entre l'age des clients et la fréquence d'achat"
   ]
  },
  {
   "cell_type": "code",
   "execution_count": null,
   "metadata": {},
   "outputs": [
    {
     "name": "stdout",
     "output_type": "stream",
     "text": [
      "Correlation:  -0.018499373110411756\n"
     ]
    }
   ],
   "source": [
    "from scipy.stats import pearsonr\n",
    "\n",
    "# Assurer que les données sont numériques et non NaN\n",
    "df['age'] = pd.to_numeric(df['age'], errors='coerce')\n",
    "df['purchase_frequency'] = pd.to_numeric(df['purchase_frequency'], errors='coerce')\n",
    "\n",
    "# Supprimer les valeurs NaN qui ont pu être introduites par la conversion\n",
    "df = df.dropna()\n",
    "\n",
    "# Calculer la corrélation et la p-valeur\n",
    "correlation, _ = pearsonr(df['age'], df['purchase_frequency'])\n",
    "print('Correlation: ', correlation)\n",
    "\n"
   ]
  },
  {
   "cell_type": "markdown",
   "metadata": {},
   "source": [
    "## le lien entre l'age des clients et la taille du panier moyen"
   ]
  },
  {
   "cell_type": "code",
   "execution_count": null,
   "metadata": {},
   "outputs": [],
   "source": []
  },
  {
   "cell_type": "markdown",
   "metadata": {},
   "source": [
    "## le lien entre l'age et la catégorie de livre achetés"
   ]
  },
  {
   "cell_type": "code",
   "execution_count": null,
   "metadata": {},
   "outputs": [
    {
     "name": "stdout",
     "output_type": "stream",
     "text": [
      "age  categ\n",
      "19   0        3418\n",
      "     1        6065\n",
      "     2        6012\n",
      "20   0         909\n",
      "     1        1798\n",
      "              ... \n",
      "93   1         161\n",
      "     2           2\n",
      "94   0          78\n",
      "     1         123\n",
      "     2           1\n",
      "Name: id_prod, Length: 228, dtype: int64\n"
     ]
    }
   ],
   "source": [
    "category_counts = dft.groupby(['age', 'categ']).count()['id_prod']\n",
    "print(category_counts)"
   ]
  },
  {
   "cell_type": "code",
   "execution_count": null,
   "metadata": {},
   "outputs": [],
   "source": []
  }
 ],
 "metadata": {
  "kernelspec": {
   "display_name": "base",
   "language": "python",
   "name": "python3"
  },
  "language_info": {
   "codemirror_mode": {
    "name": "ipython",
    "version": 3
   },
   "file_extension": ".py",
   "mimetype": "text/x-python",
   "name": "python",
   "nbconvert_exporter": "python",
   "pygments_lexer": "ipython3",
   "version": "3.9.13"
  },
  "orig_nbformat": 4
 },
 "nbformat": 4,
 "nbformat_minor": 2
}
